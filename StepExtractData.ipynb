{
 "cells": [
  {
   "cell_type": "markdown",
   "metadata": {},
   "source": [
    "## Lấy URL"
   ]
  },
  {
   "cell_type": "markdown",
   "metadata": {},
   "source": [
    " - Đối với lấy URl khi lấy hết các url trong một url gốc thì ta sẽ chọn ra một url trong các url vừa lấy được làm url gốc để tiếp tục lấy url ở trong đó"
   ]
  },
  {
   "cell_type": "markdown",
   "metadata": {},
   "source": [
    "#### Sử dụng requests và BeautifulSoup"
   ]
  },
  {
   "cell_type": "code",
   "execution_count": 1,
   "metadata": {},
   "outputs": [
    {
     "data": {
      "text/plain": [
       "['https://thanhnien.vn',\n",
       " 'javascript:void(0);',\n",
       " 'https://thanhnien.vn/video/',\n",
       " 'https://thanhnien.vn/video/thoi-su/',\n",
       " 'https://thanhnien.vn/video/phong-su/',\n",
       " 'https://thanhnien.vn/video/giai-tri/',\n",
       " 'https://thanhnien.vn/video/giao-duc/',\n",
       " 'https://thanhnien.vn/video/mon-ngon/',\n",
       " 'https://thanhnien.vn/video/video-the-thao/',\n",
       " 'https://thanhnien.vn/video/the-gioi/',\n",
       " 'https://thanhnien.vn/video/truc-tuyen/',\n",
       " 'https://thanhnien.vn/thoi-su/',\n",
       " 'https://thanhnien.vn/thoi-su/chinh-tri/',\n",
       " 'https://thanhnien.vn/thoi-su/phap-luat/',\n",
       " 'https://thanhnien.vn/thoi-su/dan-sinh/',\n",
       " 'https://thanhnien.vn/thoi-su/lao-dong-viec-lam/',\n",
       " 'https://thanhnien.vn/thoi-su/quyen-duoc-biet/',\n",
       " 'https://thanhnien.vn/thoi-su/phong-su-dieu-tra/',\n",
       " 'https://thanhnien.vn/thoi-su/quoc-phong/',\n",
       " 'https://thanhnien.vn/thoi-su/chong-tin-gia/',\n",
       " 'https://thanhnien.vn/chao-ngay-moi/',\n",
       " 'https://thanhnien.vn/toi-viet/',\n",
       " 'https://thanhnien.vn/blog-phong-vien/',\n",
       " 'https://thanhnien.vn/dien-dan/',\n",
       " 'https://thanhnien.vn/dien-dan/van-hoa-giao-thong/',\n",
       " 'https://thanhnien.vn/the-gioi/',\n",
       " 'https://thanhnien.vn/the-gioi/kinh-te-the-gioi/',\n",
       " 'https://thanhnien.vn/the-gioi/quan-su/',\n",
       " 'https://thanhnien.vn/the-gioi/goc-nhin/',\n",
       " 'https://thanhnien.vn/the-gioi/ho-so/',\n",
       " 'https://thanhnien.vn/the-gioi/nguoi-viet-nam-chau/',\n",
       " 'https://thanhnien.vn/the-gioi/chuyen-la/',\n",
       " 'https://thanhnien.vn/van-hoa/',\n",
       " 'https://thanhnien.vn/van-hoa/cau-chuyen/',\n",
       " 'https://thanhnien.vn/van-hoa/khao-cuu/',\n",
       " 'https://thanhnien.vn/van-hoa/xem-nghe/',\n",
       " 'https://thanhnien.vn/van-hoa/song-dep/',\n",
       " 'https://thanhnien.vn/van-hoa/mon-ngon-ha-noi/',\n",
       " 'https://thanhnien.vn/van-hoa/nghia-tinh-mien-tay/',\n",
       " 'https://thanhnien.vn/giai-tri/',\n",
       " 'https://thanhnien.vn/giai-tri/phim/',\n",
       " 'https://thanhnien.vn/giai-tri/truyen-hinh/',\n",
       " 'https://thanhnien.vn/giai-tri/doi-nghe-si/',\n",
       " 'https://ketnoi.thanhnien.vn/',\n",
       " 'https://thanhnien.vn/the-thao/',\n",
       " '/the-thao/soi-dong-cung-vleague.html',\n",
       " 'https://thanhnien.vn/the-thao/bong-da-viet-nam/',\n",
       " 'https://thanhnien.vn/the-thao/bong-da-quoc-te/',\n",
       " 'https://thanhnien.vn/the-thao/tin-chuyen-nhuong/',\n",
       " 'https://thanhnien.vn/the-thao/bong-ro/',\n",
       " 'https://thanhnien.vn/the-thao/the-thao-cong-dong/',\n",
       " 'https://thanhnien.vn/the-thao/toan-canh-the-thao/',\n",
       " 'https://thanhnien.vn/doi-song/',\n",
       " 'https://thanhnien.vn/doi-song/nguoi-song-quanh-ta/',\n",
       " 'https://thanhnien.vn/doi-song/gia-dinh/',\n",
       " 'https://thanhnien.vn/doi-song/am-thuc/',\n",
       " 'https://thanhnien.vn/doi-song/cong-dong/',\n",
       " 'https://thanhnien.vn/du-lich/',\n",
       " 'https://thanhnien.vn/du-lich/tin-tuc-su-kien/',\n",
       " 'https://thanhnien.vn/du-lich/kham-pha/',\n",
       " 'https://thanhnien.vn/du-lich/choi-gi-an-dau-di-the-nao/',\n",
       " 'https://thanhnien.vn/du-lich/cau-chuyen-du-lich/',\n",
       " 'https://thanhnien.vn/du-lich/bat-dong-san-du-lich/',\n",
       " 'https://thanhnien.vn/tai-chinh-kinh-doanh/',\n",
       " 'https://thanhnien.vn/tai-chinh-kinh-doanh/kinh-te-xanh/',\n",
       " 'https://thanhnien.vn/kinh-doanh/chinh-sach-phat-trien/',\n",
       " 'https://thanhnien.vn/tai-chinh-kinh-doanh/ngan-hang/',\n",
       " 'https://thanhnien.vn/tai-chinh-kinh-doanh/chung-khoan/',\n",
       " 'https://thanhnien.vn/tai-chinh-kinh-doanh/doanh-nghiep/',\n",
       " 'https://thanhnien.vn/tai-chinh-kinh-doanh/doanh-nhan/',\n",
       " 'https://thanhnien.vn/tai-chinh-kinh-doanh/tieu-dung/',\n",
       " 'https://thanhnien.vn/tai-chinh-kinh-doanh/lam-giau/',\n",
       " 'https://thanhnien.vn/tai-chinh-kinh-doanh/dia-oc/',\n",
       " 'https://thanhnien.vn/gioi-tre/',\n",
       " 'https://thanhnien.vn/gioi-tre/song-yeu-an-choi/',\n",
       " 'https://thanhnien.vn/gioi-tre/the-gioi-mang/',\n",
       " 'https://thanhnien.vn/gioi-tre/ket-noi/',\n",
       " 'https://thanhnien.vn/gioi-tre/doan-hoi/',\n",
       " 'https://thanhnien.vn/gioi-tre/thanh-nien-tinh-nguyen-he-2022/',\n",
       " 'https://thanhnien.vn/giao-duc/',\n",
       " 'https://thanhnien.vn/giao-duc/tuyen-sinh/',\n",
       " 'https://thanhnien.vn/giao-duc/hop-thu-tu-van-24-7/',\n",
       " 'https://thanhnien.vn/giao-duc/du-hoc/',\n",
       " 'https://thanhnien.vn/giao-duc/chon-nghe/',\n",
       " 'https://thanhnien.vn/giao-duc/chon-truong/',\n",
       " 'https://thanhnien.vn/giao-duc/nguoi-thay/',\n",
       " '/giao-duc/tuyen-sinh/2022/tra-cuu-diem-thi-thpt-quoc-gia.html',\n",
       " 'https://thanhnien.vn/giao-duc/cam-nang-tuyen-sinh-va-trac-nghiem-chon-nganh-2021-1371615.html',\n",
       " 'https://thanhnien.vn/cong-nghe-game/',\n",
       " 'https://thanhnien.vn/cong-nghe-game/game-moi/',\n",
       " 'https://thanhnien.vn/cong-nghe-game/gaming-house/',\n",
       " 'https://thanhnien.vn/cong-nghe-game/esports/',\n",
       " 'https://thanhnien.vn/cong-nghe-game/thu-thuat/',\n",
       " 'https://thanhnien.vn/cong-nghe-game/xu-huong-chuyen-doi-so/',\n",
       " 'https://thanhnien.vn/cong-nghe-game/san-pham/',\n",
       " 'https://thanhnien.vn/cong-nghe-game/blockchain/',\n",
       " 'https://thanhnien.vn/cong-nghe-game/tin-tuc/',\n",
       " 'https://thanhnien.vn/suc-khoe/',\n",
       " 'https://thanhnien.vn/suc-khoe/lam-dep/',\n",
       " 'https://thanhnien.vn/suc-khoe/niem-tin-vao-y-duc/',\n",
       " 'https://thanhnien.vn/suc-khoe/khoe-dep-moi-ngay/',\n",
       " 'https://thanhnien.vn/suc-khoe/gioi-tinh/',\n",
       " 'https://raovat.thanhnien.vn',\n",
       " 'https://thanhnien.vn/xe/',\n",
       " 'https://thanhnien.vn/xe/thi-truong-xe/',\n",
       " 'https://thanhnien.vn/xe/tu-van-xe/',\n",
       " 'https://thanhnien.vn/xe/dien-dan-xe/',\n",
       " 'https://thanhnien.vn/xe/danh-gia-xe/',\n",
       " 'https://thanhnien.vn/xe/kham-pha/',\n",
       " 'https://thanhnien.vn/xe/video-xe/',\n",
       " 'https://vieclam.thanhnien.vn',\n",
       " 'https://thoitrangtre.thanhnien.vn',\n",
       " 'https://thanhnien.vn/thoi-trang-247/',\n",
       " 'https://thanhnien.vn/giu-dang/',\n",
       " 'https://thanhnien.vn/nghe-nghiep/',\n",
       " 'https://thanhnien.vn/tan-huong/',\n",
       " 'https://thanhnien.vn/thoi-trang-tre/video/',\n",
       " 'https://thanhnien.vn/ban-doc/',\n",
       " 'https://thanhnien.vn/ban-doc/tu-don-thu-ban-doc/',\n",
       " 'https://thanhnien.vn/ban-doc/hoi-va-dap/',\n",
       " 'https://thanhnien.vn/ban-doc/ban-doc-viet/',\n",
       " 'https://thanhnien.vn/ban-doc/co-quan-chua-tra-loi-ban-doc/',\n",
       " 'https://thanhnien.vn/ban-doc/tra-loi-ban-doc/',\n",
       " 'https://thanhnien.vn/ban-doc/la-lanh-dum-la-rach/',\n",
       " 'https://thanhnien.vn/ban-doc/tam-long-vang/',\n",
       " 'https://thanhnien.vn/ban-can-biet/',\n",
       " 'https://thanhnien.vn/ban-can-biet/san-pham/',\n",
       " 'https://thanhnien.vn/ban-can-biet/dich-vu/',\n",
       " 'https://thanhnien.vn/ban-can-biet/giai-thuong/',\n",
       " 'https://thanhnien.vn/ban-can-biet/thong-bao/',\n",
       " 'https://thanhnien.vn/ban-can-biet/giai-tri/',\n",
       " 'https://thanhnien.vn/ban-can-biet/tuyen-dung/',\n",
       " 'https://thanhnien.vn/ban-can-biet/mien-bac/',\n",
       " 'https://thanhnien.vn/ban-can-biet/mien-nam/',\n",
       " 'https://thanhnien.vn/ban-can-biet/mien-trung/',\n",
       " 'https://thanhnien.vn/ca-nhan.html',\n",
       " 'https://vieclam.thanhnien.vn',\n",
       " '/',\n",
       " 'javascript:void(0)',\n",
       " 'javascript:void(0);',\n",
       " 'javascript:void(0);',\n",
       " 'javascript:void(0);',\n",
       " 'javascript:void(0);',\n",
       " 'javascript:void(0)',\n",
       " 'javascript:void(0);',\n",
       " 'https://datbao.thanhnien.vn',\n",
       " 'https://thanhnien.vn/tien-ich/',\n",
       " 'https://www.facebook.com/thanhnien',\n",
       " 'javascript:void(0);',\n",
       " 'https://thanhnien.vn/ban-can-biet/',\n",
       " 'https://vieclam.thanhnien.vn/',\n",
       " '/',\n",
       " 'https://thanhnien.vn/video/',\n",
       " 'https://thanhnien.vn/video/thoi-su/',\n",
       " 'https://thanhnien.vn/video/phong-su/',\n",
       " 'https://thanhnien.vn/video/giai-tri/',\n",
       " 'https://thanhnien.vn/video/giao-duc/',\n",
       " 'https://thanhnien.vn/video/mon-ngon/',\n",
       " 'https://thanhnien.vn/video/video-the-thao/',\n",
       " 'https://thanhnien.vn/video/the-gioi/',\n",
       " 'https://thanhnien.vn/video/truc-tuyen/',\n",
       " 'https://thanhnien.vn/thoi-su/',\n",
       " 'https://thanhnien.vn/thoi-su/chinh-tri/',\n",
       " 'https://thanhnien.vn/thoi-su/phap-luat/',\n",
       " 'https://thanhnien.vn/thoi-su/dan-sinh/',\n",
       " 'https://thanhnien.vn/thoi-su/lao-dong-viec-lam/',\n",
       " 'https://thanhnien.vn/thoi-su/quyen-duoc-biet/',\n",
       " 'https://thanhnien.vn/thoi-su/phong-su-dieu-tra/',\n",
       " 'https://thanhnien.vn/thoi-su/quoc-phong/',\n",
       " 'https://thanhnien.vn/thoi-su/chong-tin-gia/',\n",
       " 'https://thanhnien.vn/the-gioi/',\n",
       " 'https://thanhnien.vn/the-gioi/kinh-te-the-gioi/',\n",
       " 'https://thanhnien.vn/the-gioi/quan-su/',\n",
       " 'https://thanhnien.vn/the-gioi/goc-nhin/',\n",
       " 'https://thanhnien.vn/the-gioi/ho-so/',\n",
       " 'https://thanhnien.vn/the-gioi/nguoi-viet-nam-chau/',\n",
       " 'https://thanhnien.vn/the-gioi/chuyen-la/',\n",
       " 'https://thanhnien.vn/tai-chinh-kinh-doanh/',\n",
       " 'https://thanhnien.vn/tai-chinh-kinh-doanh/kinh-te-xanh/',\n",
       " 'https://thanhnien.vn/kinh-doanh/chinh-sach-phat-trien/',\n",
       " 'https://thanhnien.vn/tai-chinh-kinh-doanh/ngan-hang/',\n",
       " 'https://thanhnien.vn/tai-chinh-kinh-doanh/chung-khoan/',\n",
       " 'https://thanhnien.vn/tai-chinh-kinh-doanh/doanh-nghiep/',\n",
       " 'https://thanhnien.vn/tai-chinh-kinh-doanh/doanh-nhan/',\n",
       " 'https://thanhnien.vn/tai-chinh-kinh-doanh/tieu-dung/',\n",
       " 'https://thanhnien.vn/tai-chinh-kinh-doanh/lam-giau/',\n",
       " 'https://thanhnien.vn/tai-chinh-kinh-doanh/dia-oc/',\n",
       " 'https://thanhnien.vn/doi-song/',\n",
       " 'https://thanhnien.vn/doi-song/nguoi-song-quanh-ta/',\n",
       " 'https://thanhnien.vn/doi-song/gia-dinh/',\n",
       " 'https://thanhnien.vn/doi-song/am-thuc/',\n",
       " 'https://thanhnien.vn/doi-song/cong-dong/',\n",
       " 'https://thanhnien.vn/du-lich/',\n",
       " 'https://thanhnien.vn/du-lich/tin-tuc-su-kien/',\n",
       " 'https://thanhnien.vn/du-lich/kham-pha/',\n",
       " 'https://thanhnien.vn/du-lich/choi-gi-an-dau-di-the-nao/',\n",
       " 'https://thanhnien.vn/du-lich/cau-chuyen-du-lich/',\n",
       " 'https://thanhnien.vn/du-lich/bat-dong-san-du-lich/',\n",
       " 'https://thanhnien.vn/van-hoa/',\n",
       " 'https://thanhnien.vn/van-hoa/cau-chuyen/',\n",
       " 'https://thanhnien.vn/van-hoa/khao-cuu/',\n",
       " 'https://thanhnien.vn/van-hoa/xem-nghe/',\n",
       " 'https://thanhnien.vn/van-hoa/song-dep/',\n",
       " 'https://thanhnien.vn/van-hoa/mon-ngon-ha-noi/',\n",
       " 'https://thanhnien.vn/van-hoa/nghia-tinh-mien-tay/',\n",
       " 'https://thanhnien.vn/giai-tri/',\n",
       " 'https://thanhnien.vn/giai-tri/phim/',\n",
       " 'https://thanhnien.vn/giai-tri/truyen-hinh/',\n",
       " 'https://thanhnien.vn/giai-tri/doi-nghe-si/',\n",
       " 'https://ketnoi.thanhnien.vn/',\n",
       " 'https://thanhnien.vn/gioi-tre/',\n",
       " 'https://thanhnien.vn/gioi-tre/song-yeu-an-choi/',\n",
       " 'https://thanhnien.vn/gioi-tre/the-gioi-mang/',\n",
       " 'https://thanhnien.vn/gioi-tre/ket-noi/',\n",
       " 'https://thanhnien.vn/gioi-tre/doan-hoi/',\n",
       " 'https://thanhnien.vn/gioi-tre/thanh-nien-tinh-nguyen-he-2022/',\n",
       " 'https://thanhnien.vn/giao-duc/',\n",
       " 'https://thanhnien.vn/giao-duc/tuyen-sinh/',\n",
       " 'https://thanhnien.vn/giao-duc/hop-thu-tu-van-24-7/',\n",
       " 'https://thanhnien.vn/giao-duc/du-hoc/',\n",
       " 'https://thanhnien.vn/giao-duc/chon-nghe/',\n",
       " 'https://thanhnien.vn/giao-duc/chon-truong/',\n",
       " 'https://thanhnien.vn/giao-duc/nguoi-thay/',\n",
       " '/giao-duc/tuyen-sinh/2022/tra-cuu-diem-thi-thpt-quoc-gia.html',\n",
       " 'https://thanhnien.vn/giao-duc/cam-nang-tuyen-sinh-va-trac-nghiem-chon-nganh-2021-1371615.html',\n",
       " 'https://thanhnien.vn/the-thao/',\n",
       " '/the-thao/soi-dong-cung-vleague.html',\n",
       " 'https://thanhnien.vn/the-thao/bong-da-viet-nam/',\n",
       " 'https://thanhnien.vn/the-thao/bong-da-quoc-te/',\n",
       " 'https://thanhnien.vn/the-thao/tin-chuyen-nhuong/',\n",
       " 'https://thanhnien.vn/the-thao/bong-ro/',\n",
       " 'https://thanhnien.vn/the-thao/the-thao-cong-dong/',\n",
       " 'https://thanhnien.vn/the-thao/toan-canh-the-thao/',\n",
       " 'https://thanhnien.vn/suc-khoe/',\n",
       " 'https://thanhnien.vn/suc-khoe/lam-dep/',\n",
       " 'https://thanhnien.vn/suc-khoe/niem-tin-vao-y-duc/',\n",
       " 'https://thanhnien.vn/suc-khoe/khoe-dep-moi-ngay/',\n",
       " 'https://thanhnien.vn/suc-khoe/gioi-tinh/',\n",
       " 'https://thanhnien.vn/cong-nghe-game/',\n",
       " 'https://thanhnien.vn/cong-nghe-game/game-moi/',\n",
       " 'https://thanhnien.vn/cong-nghe-game/gaming-house/',\n",
       " 'https://thanhnien.vn/cong-nghe-game/esports/',\n",
       " 'https://thanhnien.vn/cong-nghe-game/thu-thuat/',\n",
       " 'https://thanhnien.vn/cong-nghe-game/xu-huong-chuyen-doi-so/',\n",
       " 'https://thanhnien.vn/cong-nghe-game/san-pham/',\n",
       " 'https://thanhnien.vn/cong-nghe-game/blockchain/',\n",
       " 'https://thanhnien.vn/cong-nghe-game/tin-tuc/',\n",
       " 'https://thanhnien.vn/xe/',\n",
       " 'https://thanhnien.vn/xe/thi-truong-xe/',\n",
       " 'https://thanhnien.vn/xe/tu-van-xe/',\n",
       " 'https://thanhnien.vn/xe/dien-dan-xe/',\n",
       " 'https://thanhnien.vn/xe/danh-gia-xe/',\n",
       " 'https://thanhnien.vn/xe/kham-pha/',\n",
       " 'https://thanhnien.vn/xe/video-xe/',\n",
       " 'https://thoitrangtre.thanhnien.vn',\n",
       " 'https://thanhnien.vn/thoi-trang-247/',\n",
       " 'https://thanhnien.vn/giu-dang/',\n",
       " 'https://thanhnien.vn/nghe-nghiep/',\n",
       " 'https://thanhnien.vn/tan-huong/',\n",
       " 'https://thanhnien.vn/thoi-trang-tre/video/',\n",
       " 'https://thanhnien.vn/ca-nhan.html',\n",
       " 'javascript:void(0);',\n",
       " 'https://thanhnien.vn',\n",
       " 'https://thanhnien.vn/doi-song/',\n",
       " '#commentbox',\n",
       " 'javascript:void(0);',\n",
       " 'javascript:void(0);',\n",
       " 'javascript:void(0);',\n",
       " 'javascript:void(0);',\n",
       " 'https://thanhnien.vn/author/cao-an-bien-3281.html',\n",
       " 'https://thanhnien.vn/author/cao-an-bien-3281.html',\n",
       " 'javascript:void(0);',\n",
       " 'javascript:void(0);',\n",
       " 'javascript:void(0);',\n",
       " 'javascript:void(0);',\n",
       " 'javascript:void(0);',\n",
       " 'javascript:void(0);',\n",
       " 'https://thanhnien.vn/tai-chinh-kinh-doanh/doanh-nhan/',\n",
       " 'https://thanhnien.vn/hom-nay-dai-le-cau-sieu-dong-bao-tu-vong-vi-covid-19-dung-gio-dau-cua-me-em-chong-post1489309.html',\n",
       " 'https://thanhnien.vn/shark-binh-ban-trai-dien-vien-phuong-oanh-len-tieng-ve-thong-tin-chua-ly-hon-vo-post1492270.html',\n",
       " 'https://thanhnien.vn/shark-binh-ban-trai-dien-vien-phuong-oanh-len-tieng-ve-thong-tin-chua-ly-hon-vo-post1492270.html',\n",
       " 'https://thanhnien.vn/hoi-doanh-nhan-tre-da-nang-mua-gan-100-tan-vai-bac-giang-giup-nguoi-dan-post1074381.html',\n",
       " 'https://thanhnien.vn/gioi-tre/the-gioi-mang/',\n",
       " 'https://thanhnien.vn/vu-khoi-to-chong-lay-tien-vo-tien-chung-vo-chong-lay-xai-co-phai-xin-phep-post1465717.html',\n",
       " 'https://thanhnien.vn/vo-to-co-giao-chu-nhiem-quan-he-bat-chinh-sinh-con-voi-chong-minh-post1434941.html',\n",
       " 'https://thanhnien.vn/cau-be-bong-dung-co-dien-thoai-dat-tien-roi-mat-tich-da-goi-dien-cho-me-post1492352.html',\n",
       " 'https://thanhnien.vn/chang-trai-viet-cua-ban-gai-my-cung-bo-pho-ve-rung-nam-my-sinh-con-thuan-tu-nhien-post1480227.html',\n",
       " 'https://thanhnien.vn/chang-trai-viet-moi-25-tuoi-cuoi-duoc-vo-tay-sieu-mau-chi-sau-5-thang-hen-ho-post1470391.html',\n",
       " 'javascript:void(0);',\n",
       " 'javascript:void(0);',\n",
       " 'javascript:void(0);',\n",
       " 'javascript:void(0);',\n",
       " 'javascript:void(0);',\n",
       " 'javascript:void(0);',\n",
       " 'https://thanhnien.vn/shark-binh/',\n",
       " 'https://thanhnien.vn/dien-vien-phuong-oanh/',\n",
       " 'https://thanhnien.vn/doanh-nhan-dao-lan-huong/',\n",
       " 'https://thanhnien.vn/ly-hon-mieng/',\n",
       " 'https://thanhnien.vn/khu-nam-tphcm-khuay-dong-thi-truong-bat-dong-san-voi-loat-du-an-ti-do-post1493690.html',\n",
       " 'https://thanhnien.vn/can-ho-y-hoc-tai-tao-khai-pha-tiem-nang-du-lich-moi-tai-viet-nam-post1493439.html',\n",
       " 'https://thanhnien.vn/lua-chon-thong-minh-giup-giai-quyet-bai-toan-hoc-phi-hieu-qua-post1493528.html',\n",
       " 'https://thanhnien.vn/tuyet-chieu-don-gian-de-con-chiu-nap-rau-cu-moi-ngay-post1493512.html',\n",
       " 'https://thanhnien.vn/isaac-va-hoang-ha-mach-ban-cach-chill-cuoi-tuan-o-ha-noi-post1493476.html',\n",
       " 'https://thanhnien.vn/lien-ket-vung-doanh-nghiep-dong-hanh-phat-trien-kinh-te-post1493336.html',\n",
       " 'https://thanhnien.vn/kcn-son-my-i---kcn-thong-minh-va-than-thien-voi-moi-truong-tai-binh-thuan-post1493571.html',\n",
       " 'javascript:void(0);',\n",
       " 'https://thanhnien.vn/tong-cho-chay-rong-xot-xa-nam-sinh-15-tuoi-tu-vong-tai-cho-post1493570.html',\n",
       " 'https://thanhnien.vn/tong-cho-chay-rong-xot-xa-nam-sinh-15-tuoi-tu-vong-tai-cho-post1493570.html',\n",
       " 'https://thanhnien.vn/nguoi-dan-ong-o-tphcm-hoang-mang-khi-con-do-bat-ngo-xong-vao-nha-cam-cay-phang-thang-post1493123.html',\n",
       " 'https://thanhnien.vn/nguoi-dan-ong-o-tphcm-hoang-mang-khi-con-do-bat-ngo-xong-vao-nha-cam-cay-phang-thang-post1493123.html',\n",
       " 'https://thanhnien.vn/vo-viet-chong-my-mo-quan-o-manila-quang-ba-am-thuc-viet-nguoi-philippines-khoai-canh-ga-chien-nuoc-mam-post1491210.html',\n",
       " 'https://thanhnien.vn/dang-boc-dau-so-999xx-chu-xe-super-cup-trung-ngay-bien-so-ngu-quy-99999-post1493298.html',\n",
       " 'https://thanhnien.vn/dang-boc-dau-so-999xx-chu-xe-super-cup-trung-ngay-bien-so-ngu-quy-99999-post1493298.html',\n",
       " 'https://thanhnien.vn/da-nang/',\n",
       " 'https://thanhnien.vn/gioi-tre/the-gioi-mang/',\n",
       " 'https://thanhnien.vn/yeu-cau-lanh-dao-chu-chot-xa-giai-trinh-vu-di-da-nang-tham-quan-hoc-tap-kinh-nghiem-post1493464.html',\n",
       " 'https://thanhnien.vn/yeu-cau-lanh-dao-chu-chot-xa-giai-trinh-vu-di-da-nang-tham-quan-hoc-tap-kinh-nghiem-post1493464.html',\n",
       " 'https://thanhnien.vn/hai-phong-pho-giam-doc-trung-tam-phat-trien-quy-dat-h-kien-thuy-tu-vong-trong-tu-the-treo-co-post1481910.html',\n",
       " 'https://thanhnien.vn/di-lai-dip-le-29-nguoi-tu-tphcm-di-vung-tau-da-lat-nha-trang-du-bao-dong-post1493353.html',\n",
       " 'https://thanhnien.vn/di-lai-dip-le-29-nguoi-tu-tphcm-di-vung-tau-da-lat-nha-trang-du-bao-dong-post1493353.html',\n",
       " 'https://thanhnien.vn/du-lich/',\n",
       " 'https://thanhnien.vn/dai-uy-csgt-tu-tay-mo-quan-com-0-dong-giup-nguoi-ngheo-post1493588.html',\n",
       " 'https://thanhnien.vn/dai-uy-csgt-tu-tay-mo-quan-com-0-dong-giup-nguoi-ngheo-post1493588.html',\n",
       " 'https://thanhnien.vn/dak-lak/',\n",
       " 'https://thanhnien.vn/tin-tuc-dac-biet-tren-bao-in-ngay-3182022-post1493587.html',\n",
       " 'https://thanhnien.vn/tin-tuc-dac-biet-tren-bao-in-ngay-3182022-post1493587.html',\n",
       " 'https://thanhnien.vn',\n",
       " 'https://thanhnien.vn/ha-tinh-to-chuc-thi-diem-cho-dem-gan-voi-pho-di-bo-tu-ngay-29-post1493460.html',\n",
       " 'https://thanhnien.vn/ha-tinh-to-chuc-thi-diem-cho-dem-gan-voi-pho-di-bo-tu-ngay-29-post1493460.html',\n",
       " 'https://thanhnien.vn/hang-tram-nghe-si-bieu-dien-phuc-vu-tet-doc-lap-tai-pho-di-bo-nguyen-hue-post1492965.html',\n",
       " 'https://thanhnien.vn/ha-tinh/',\n",
       " 'https://thanhnien.vn/2-be-ru-nhau-ra-bo-song-choi-mot-be-9-tuoi-bi-duoi-nuoc-tu-vong-post1493568.html',\n",
       " 'https://thanhnien.vn/2-be-ru-nhau-ra-bo-song-choi-mot-be-9-tuoi-bi-duoi-nuoc-tu-vong-post1493568.html',\n",
       " 'https://thanhnien.vn/thai-binh-chau-be-3-tuoi-duoi-nuoc-tu-vong-duoi-ao-nha-ong-ngoai-post1493035.html',\n",
       " 'https://thanhnien.vn/tu-vi-hang-ngay---xem-tu-vi-vui-12-con-giap-ngay-3182022-post1493034.html',\n",
       " 'https://thanhnien.vn/tu-vi-hang-ngay---xem-tu-vi-vui-12-con-giap-ngay-3182022-post1493034.html',\n",
       " 'https://thanhnien.vn/tu-vi/',\n",
       " 'https://thanhnien.vn/bien-y-tuong-nho-thanh-3000-cay-giong-tang-cho-vuon-quoc-gia-vu-quang-ha-tinh-post1493518.html',\n",
       " 'https://thanhnien.vn/bien-y-tuong-nho-thanh-3000-cay-giong-tang-cho-vuon-quoc-gia-vu-quang-ha-tinh-post1493518.html',\n",
       " 'https://thanhnien.vn/ket-qua-xo-so-hom-nay---kqxs---xo-so-truc-tiep-thu-ba-ngay-3082022-post1493458.html',\n",
       " 'https://thanhnien.vn/ket-qua-xo-so-hom-nay---kqxs---xo-so-truc-tiep-thu-ba-ngay-3082022-post1493458.html',\n",
       " 'https://thanhnien.vn/xo-so-mien-nam/',\n",
       " 'https://thanhnien.vn/ben-tre/',\n",
       " 'https://thanhnien.vn/bac-lieu/',\n",
       " 'https://thanhnien.vn/dak-lak/',\n",
       " 'https://thanhnien.vn/tin-24h.html',\n",
       " 'https://thanhnien.vn/tin-nhanh-360.html',\n",
       " 'https://thanhnien.vn/tin-thi-truong.html',\n",
       " 'https://thanhnien.vn/ca-nhan.html',\n",
       " 'https://thanhnien.vn/video/',\n",
       " 'https://thanhnien.vn/thoi-su/',\n",
       " 'https://thanhnien.vn/the-gioi/',\n",
       " 'https://thanhnien.vn/tai-chinh-kinh-doanh/',\n",
       " 'https://thanhnien.vn/doi-song/',\n",
       " 'https://thanhnien.vn/van-hoa/',\n",
       " 'https://thanhnien.vn/giai-tri/',\n",
       " 'https://thanhnien.vn/gioi-tre/',\n",
       " 'https://thanhnien.vn/giao-duc/',\n",
       " 'https://thanhnien.vn/suc-khoe/',\n",
       " 'https://thanhnien.vn/du-lich/',\n",
       " 'https://thoitrangtre.thanhnien.vn/',\n",
       " 'https://thanhnien.vn/cong-nghe-game/',\n",
       " 'https://thanhnien.vn/xe/',\n",
       " 'https://vieclam.thanhnien.vn/',\n",
       " 'https://thanhnien.vn/ban-can-biet/',\n",
       " 'https://www.facebook.com/thanhnien',\n",
       " 'https://zalo.me/2431025964363015388',\n",
       " 'https://www.youtube.com/channel/UCIW9cGgoRuGJnky3K3tbzNg',\n",
       " '/',\n",
       " 'https://datbao.thanhnien.vn',\n",
       " 'https://banggia.thanhnien.vn/',\n",
       " 'https://thanhnien.vn/rss.html',\n",
       " 'https://thanhnien.vn/toa-soan.html',\n",
       " 'https://thanhnien.vn/policy.html',\n",
       " 'javascript:void(0);',\n",
       " 'javascript:void(0);',\n",
       " 'javascript:void(0);',\n",
       " 'javascript:void(0);']"
      ]
     },
     "execution_count": 1,
     "metadata": {},
     "output_type": "execute_result"
    }
   ],
   "source": [
    "import requests\n",
    "from bs4 import BeautifulSoup\n",
    "\n",
    "url = 'https://thanhnien.vn/tu-vu-shark-binh-ly-hon-mieng-va-don-thuan-tinh-ly-hon-gia-tri-phap-ly-the-nao-post1492386.html?utm_source=dable'\n",
    "reqs = requests.get(url)\n",
    "soup = BeautifulSoup(reqs.text, 'html.parser')\n",
    " \n",
    "urls = []\n",
    "for link in soup.find_all('a'):\n",
    "    url = link.get('href')\n",
    "    urls.append(url)\n",
    "urls"
   ]
  },
  {
   "cell_type": "markdown",
   "metadata": {},
   "source": []
  },
  {
   "cell_type": "markdown",
   "metadata": {},
   "source": [
    "## Lọc URL"
   ]
  },
  {
   "cell_type": "markdown",
   "metadata": {},
   "source": [
    "- Đối với các url của bài báo của thanhnien.vn thì:\n",
    "    - Các bài báo thường là các trang cuối cùng nên thường có đuôi html\n",
    "    - Một số trang có đuôi html nhưng không có tên miền thì khi trích xuất thông tin sẽ không thể tìm thấy vì vậy lấy các trang bắt đầu bằng https://thanhnien.vn\n",
    "    - Nhưng trong các trang đó sẽ có trang không phải là trang báo, tôi nhận thấy rằng các trang báo ở cuối thường có ký tự báo hiệu đó là mọt trang báo đó là post + một đoạn code đã mã hóa. Nên từ đó ta sẽ lấy các trang có chứa từ post\n",
    "    - Loại bỏ các url bị trùng lặp trong quá trình lấy urls"
   ]
  },
  {
   "cell_type": "code",
   "execution_count": 8,
   "metadata": {},
   "outputs": [
    {
     "data": {
      "text/plain": [
       "['https://thanhnien.vn/hom-nay-dai-le-cau-sieu-dong-bao-tu-vong-vi-covid-19-dung-gio-dau-cua-me-em-chong-post1489309.html\\n',\n",
       " 'https://thanhnien.vn/shark-binh-ban-trai-dien-vien-phuong-oanh-len-tieng-ve-thong-tin-chua-ly-hon-vo-post1492270.html\\n',\n",
       " 'https://thanhnien.vn/shark-binh-ban-trai-dien-vien-phuong-oanh-len-tieng-ve-thong-tin-chua-ly-hon-vo-post1492270.html\\n',\n",
       " 'https://thanhnien.vn/hoi-doanh-nhan-tre-da-nang-mua-gan-100-tan-vai-bac-giang-giup-nguoi-dan-post1074381.html\\n',\n",
       " 'https://thanhnien.vn/vu-khoi-to-chong-lay-tien-vo-tien-chung-vo-chong-lay-xai-co-phai-xin-phep-post1465717.html\\n',\n",
       " 'https://thanhnien.vn/vo-to-co-giao-chu-nhiem-quan-he-bat-chinh-sinh-con-voi-chong-minh-post1434941.html\\n',\n",
       " 'https://thanhnien.vn/cau-be-bong-dung-co-dien-thoai-dat-tien-roi-mat-tich-da-goi-dien-cho-me-post1492352.html\\n',\n",
       " 'https://thanhnien.vn/chang-trai-viet-cua-ban-gai-my-cung-bo-pho-ve-rung-nam-my-sinh-con-thuan-tu-nhien-post1480227.html\\n',\n",
       " 'https://thanhnien.vn/chang-trai-viet-moi-25-tuoi-cuoi-duoc-vo-tay-sieu-mau-chi-sau-5-thang-hen-ho-post1470391.html\\n',\n",
       " 'https://thanhnien.vn/khu-nam-tphcm-khuay-dong-thi-truong-bat-dong-san-voi-loat-du-an-ti-do-post1493690.html\\n',\n",
       " 'https://thanhnien.vn/can-ho-y-hoc-tai-tao-khai-pha-tiem-nang-du-lich-moi-tai-viet-nam-post1493439.html\\n',\n",
       " 'https://thanhnien.vn/lua-chon-thong-minh-giup-giai-quyet-bai-toan-hoc-phi-hieu-qua-post1493528.html\\n',\n",
       " 'https://thanhnien.vn/tuyet-chieu-don-gian-de-con-chiu-nap-rau-cu-moi-ngay-post1493512.html\\n',\n",
       " 'https://thanhnien.vn/isaac-va-hoang-ha-mach-ban-cach-chill-cuoi-tuan-o-ha-noi-post1493476.html\\n',\n",
       " 'https://thanhnien.vn/lien-ket-vung-doanh-nghiep-dong-hanh-phat-trien-kinh-te-post1493336.html\\n',\n",
       " 'https://thanhnien.vn/kcn-son-my-i---kcn-thong-minh-va-than-thien-voi-moi-truong-tai-binh-thuan-post1493571.html\\n',\n",
       " 'https://thanhnien.vn/tong-cho-chay-rong-xot-xa-nam-sinh-15-tuoi-tu-vong-tai-cho-post1493570.html\\n',\n",
       " 'https://thanhnien.vn/tong-cho-chay-rong-xot-xa-nam-sinh-15-tuoi-tu-vong-tai-cho-post1493570.html\\n',\n",
       " 'https://thanhnien.vn/nguoi-dan-ong-o-tphcm-hoang-mang-khi-con-do-bat-ngo-xong-vao-nha-cam-cay-phang-thang-post1493123.html\\n',\n",
       " 'https://thanhnien.vn/nguoi-dan-ong-o-tphcm-hoang-mang-khi-con-do-bat-ngo-xong-vao-nha-cam-cay-phang-thang-post1493123.html\\n',\n",
       " 'https://thanhnien.vn/vo-viet-chong-my-mo-quan-o-manila-quang-ba-am-thuc-viet-nguoi-philippines-khoai-canh-ga-chien-nuoc-mam-post1491210.html\\n',\n",
       " 'https://thanhnien.vn/dang-boc-dau-so-999xx-chu-xe-super-cup-trung-ngay-bien-so-ngu-quy-99999-post1493298.html\\n',\n",
       " 'https://thanhnien.vn/dang-boc-dau-so-999xx-chu-xe-super-cup-trung-ngay-bien-so-ngu-quy-99999-post1493298.html\\n',\n",
       " 'https://thanhnien.vn/yeu-cau-lanh-dao-chu-chot-xa-giai-trinh-vu-di-da-nang-tham-quan-hoc-tap-kinh-nghiem-post1493464.html\\n',\n",
       " 'https://thanhnien.vn/yeu-cau-lanh-dao-chu-chot-xa-giai-trinh-vu-di-da-nang-tham-quan-hoc-tap-kinh-nghiem-post1493464.html\\n',\n",
       " 'https://thanhnien.vn/hai-phong-pho-giam-doc-trung-tam-phat-trien-quy-dat-h-kien-thuy-tu-vong-trong-tu-the-treo-co-post1481910.html\\n',\n",
       " 'https://thanhnien.vn/di-lai-dip-le-29-nguoi-tu-tphcm-di-vung-tau-da-lat-nha-trang-du-bao-dong-post1493353.html\\n',\n",
       " 'https://thanhnien.vn/di-lai-dip-le-29-nguoi-tu-tphcm-di-vung-tau-da-lat-nha-trang-du-bao-dong-post1493353.html\\n',\n",
       " 'https://thanhnien.vn/dai-uy-csgt-tu-tay-mo-quan-com-0-dong-giup-nguoi-ngheo-post1493588.html\\n',\n",
       " 'https://thanhnien.vn/dai-uy-csgt-tu-tay-mo-quan-com-0-dong-giup-nguoi-ngheo-post1493588.html\\n',\n",
       " 'https://thanhnien.vn/tin-tuc-dac-biet-tren-bao-in-ngay-3182022-post1493587.html\\n',\n",
       " 'https://thanhnien.vn/tin-tuc-dac-biet-tren-bao-in-ngay-3182022-post1493587.html\\n',\n",
       " 'https://thanhnien.vn/ha-tinh-to-chuc-thi-diem-cho-dem-gan-voi-pho-di-bo-tu-ngay-29-post1493460.html\\n',\n",
       " 'https://thanhnien.vn/ha-tinh-to-chuc-thi-diem-cho-dem-gan-voi-pho-di-bo-tu-ngay-29-post1493460.html\\n',\n",
       " 'https://thanhnien.vn/hang-tram-nghe-si-bieu-dien-phuc-vu-tet-doc-lap-tai-pho-di-bo-nguyen-hue-post1492965.html\\n',\n",
       " 'https://thanhnien.vn/2-be-ru-nhau-ra-bo-song-choi-mot-be-9-tuoi-bi-duoi-nuoc-tu-vong-post1493568.html\\n',\n",
       " 'https://thanhnien.vn/2-be-ru-nhau-ra-bo-song-choi-mot-be-9-tuoi-bi-duoi-nuoc-tu-vong-post1493568.html\\n',\n",
       " 'https://thanhnien.vn/thai-binh-chau-be-3-tuoi-duoi-nuoc-tu-vong-duoi-ao-nha-ong-ngoai-post1493035.html\\n',\n",
       " 'https://thanhnien.vn/tu-vi-hang-ngay---xem-tu-vi-vui-12-con-giap-ngay-3182022-post1493034.html\\n',\n",
       " 'https://thanhnien.vn/tu-vi-hang-ngay---xem-tu-vi-vui-12-con-giap-ngay-3182022-post1493034.html\\n',\n",
       " 'https://thanhnien.vn/bien-y-tuong-nho-thanh-3000-cay-giong-tang-cho-vuon-quoc-gia-vu-quang-ha-tinh-post1493518.html\\n',\n",
       " 'https://thanhnien.vn/bien-y-tuong-nho-thanh-3000-cay-giong-tang-cho-vuon-quoc-gia-vu-quang-ha-tinh-post1493518.html\\n',\n",
       " 'https://thanhnien.vn/ket-qua-xo-so-hom-nay---kqxs---xo-so-truc-tiep-thu-ba-ngay-3082022-post1493458.html\\n',\n",
       " 'https://thanhnien.vn/ket-qua-xo-so-hom-nay---kqxs---xo-so-truc-tiep-thu-ba-ngay-3082022-post1493458.html\\n']"
      ]
     },
     "execution_count": 8,
     "metadata": {},
     "output_type": "execute_result"
    }
   ],
   "source": [
    "url_filted = []\n",
    "for url in urls:\n",
    "        if url.endswith('html') and url.startswith('https://thanhnien.vn') and 'post' in url and url not in url_filted :\n",
    "                url_filted.append(url+'\\n')\n",
    "url_filted"
   ]
  },
  {
   "cell_type": "markdown",
   "metadata": {},
   "source": [
    "## Save urls to file"
   ]
  },
  {
   "cell_type": "code",
   "execution_count": 1,
   "metadata": {},
   "outputs": [],
   "source": [
    "URL_file = '''Website Data\\\\URL.txt'''\n",
    "file = open(URL_file, \"a\")\n",
    "# file.writelines(url_filted)\n",
    "file.close()"
   ]
  },
  {
   "cell_type": "markdown",
   "metadata": {},
   "source": [
    "# Crawl data from url"
   ]
  },
  {
   "cell_type": "code",
   "execution_count": 3,
   "metadata": {},
   "outputs": [],
   "source": [
    "URL_file = '''Website Data\\\\URL.txt'''"
   ]
  },
  {
   "cell_type": "markdown",
   "metadata": {},
   "source": [
    "### Demo one url"
   ]
  },
  {
   "cell_type": "code",
   "execution_count": 4,
   "metadata": {},
   "outputs": [
    {
     "data": {
      "text/plain": [
       "['https://thanhnien.vn/hom-nay-dai-le-cau-sieu-dong-bao-tu-vong-vi-covid-19-dung-gio-dau-cua-me-em-chong-post1489309.html\\n',\n",
       " 'https://thanhnien.vn/shark-binh-ban-trai-dien-vien-phuong-oanh-len-tieng-ve-thong-tin-chua-ly-hon-vo-post1492270.html\\n',\n",
       " 'https://thanhnien.vn/shark-binh-ban-trai-dien-vien-phuong-oanh-len-tieng-ve-thong-tin-chua-ly-hon-vo-post1492270.html\\n',\n",
       " 'https://thanhnien.vn/hoi-doanh-nhan-tre-da-nang-mua-gan-100-tan-vai-bac-giang-giup-nguoi-dan-post1074381.html\\n',\n",
       " 'https://thanhnien.vn/vu-khoi-to-chong-lay-tien-vo-tien-chung-vo-chong-lay-xai-co-phai-xin-phep-post1465717.html\\n',\n",
       " 'https://thanhnien.vn/vo-to-co-giao-chu-nhiem-quan-he-bat-chinh-sinh-con-voi-chong-minh-post1434941.html\\n',\n",
       " 'https://thanhnien.vn/cau-be-bong-dung-co-dien-thoai-dat-tien-roi-mat-tich-da-goi-dien-cho-me-post1492352.html\\n',\n",
       " 'https://thanhnien.vn/chang-trai-viet-cua-ban-gai-my-cung-bo-pho-ve-rung-nam-my-sinh-con-thuan-tu-nhien-post1480227.html\\n',\n",
       " 'https://thanhnien.vn/chang-trai-viet-moi-25-tuoi-cuoi-duoc-vo-tay-sieu-mau-chi-sau-5-thang-hen-ho-post1470391.html\\n',\n",
       " 'https://thanhnien.vn/khu-nam-tphcm-khuay-dong-thi-truong-bat-dong-san-voi-loat-du-an-ti-do-post1493690.html\\n',\n",
       " 'https://thanhnien.vn/can-ho-y-hoc-tai-tao-khai-pha-tiem-nang-du-lich-moi-tai-viet-nam-post1493439.html\\n',\n",
       " 'https://thanhnien.vn/lua-chon-thong-minh-giup-giai-quyet-bai-toan-hoc-phi-hieu-qua-post1493528.html\\n',\n",
       " 'https://thanhnien.vn/tuyet-chieu-don-gian-de-con-chiu-nap-rau-cu-moi-ngay-post1493512.html\\n',\n",
       " 'https://thanhnien.vn/isaac-va-hoang-ha-mach-ban-cach-chill-cuoi-tuan-o-ha-noi-post1493476.html\\n',\n",
       " 'https://thanhnien.vn/lien-ket-vung-doanh-nghiep-dong-hanh-phat-trien-kinh-te-post1493336.html\\n',\n",
       " 'https://thanhnien.vn/kcn-son-my-i---kcn-thong-minh-va-than-thien-voi-moi-truong-tai-binh-thuan-post1493571.html\\n',\n",
       " 'https://thanhnien.vn/tong-cho-chay-rong-xot-xa-nam-sinh-15-tuoi-tu-vong-tai-cho-post1493570.html\\n',\n",
       " 'https://thanhnien.vn/tong-cho-chay-rong-xot-xa-nam-sinh-15-tuoi-tu-vong-tai-cho-post1493570.html\\n',\n",
       " 'https://thanhnien.vn/nguoi-dan-ong-o-tphcm-hoang-mang-khi-con-do-bat-ngo-xong-vao-nha-cam-cay-phang-thang-post1493123.html\\n',\n",
       " 'https://thanhnien.vn/nguoi-dan-ong-o-tphcm-hoang-mang-khi-con-do-bat-ngo-xong-vao-nha-cam-cay-phang-thang-post1493123.html\\n',\n",
       " 'https://thanhnien.vn/vo-viet-chong-my-mo-quan-o-manila-quang-ba-am-thuc-viet-nguoi-philippines-khoai-canh-ga-chien-nuoc-mam-post1491210.html\\n',\n",
       " 'https://thanhnien.vn/dang-boc-dau-so-999xx-chu-xe-super-cup-trung-ngay-bien-so-ngu-quy-99999-post1493298.html\\n',\n",
       " 'https://thanhnien.vn/dang-boc-dau-so-999xx-chu-xe-super-cup-trung-ngay-bien-so-ngu-quy-99999-post1493298.html\\n',\n",
       " 'https://thanhnien.vn/yeu-cau-lanh-dao-chu-chot-xa-giai-trinh-vu-di-da-nang-tham-quan-hoc-tap-kinh-nghiem-post1493464.html\\n',\n",
       " 'https://thanhnien.vn/yeu-cau-lanh-dao-chu-chot-xa-giai-trinh-vu-di-da-nang-tham-quan-hoc-tap-kinh-nghiem-post1493464.html\\n',\n",
       " 'https://thanhnien.vn/hai-phong-pho-giam-doc-trung-tam-phat-trien-quy-dat-h-kien-thuy-tu-vong-trong-tu-the-treo-co-post1481910.html\\n',\n",
       " 'https://thanhnien.vn/di-lai-dip-le-29-nguoi-tu-tphcm-di-vung-tau-da-lat-nha-trang-du-bao-dong-post1493353.html\\n',\n",
       " 'https://thanhnien.vn/di-lai-dip-le-29-nguoi-tu-tphcm-di-vung-tau-da-lat-nha-trang-du-bao-dong-post1493353.html\\n',\n",
       " 'https://thanhnien.vn/dai-uy-csgt-tu-tay-mo-quan-com-0-dong-giup-nguoi-ngheo-post1493588.html\\n',\n",
       " 'https://thanhnien.vn/dai-uy-csgt-tu-tay-mo-quan-com-0-dong-giup-nguoi-ngheo-post1493588.html\\n',\n",
       " 'https://thanhnien.vn/tin-tuc-dac-biet-tren-bao-in-ngay-3182022-post1493587.html\\n',\n",
       " 'https://thanhnien.vn/tin-tuc-dac-biet-tren-bao-in-ngay-3182022-post1493587.html\\n',\n",
       " 'https://thanhnien.vn/ha-tinh-to-chuc-thi-diem-cho-dem-gan-voi-pho-di-bo-tu-ngay-29-post1493460.html\\n',\n",
       " 'https://thanhnien.vn/ha-tinh-to-chuc-thi-diem-cho-dem-gan-voi-pho-di-bo-tu-ngay-29-post1493460.html\\n',\n",
       " 'https://thanhnien.vn/hang-tram-nghe-si-bieu-dien-phuc-vu-tet-doc-lap-tai-pho-di-bo-nguyen-hue-post1492965.html\\n',\n",
       " 'https://thanhnien.vn/2-be-ru-nhau-ra-bo-song-choi-mot-be-9-tuoi-bi-duoi-nuoc-tu-vong-post1493568.html\\n',\n",
       " 'https://thanhnien.vn/2-be-ru-nhau-ra-bo-song-choi-mot-be-9-tuoi-bi-duoi-nuoc-tu-vong-post1493568.html\\n',\n",
       " 'https://thanhnien.vn/thai-binh-chau-be-3-tuoi-duoi-nuoc-tu-vong-duoi-ao-nha-ong-ngoai-post1493035.html\\n',\n",
       " 'https://thanhnien.vn/tu-vi-hang-ngay---xem-tu-vi-vui-12-con-giap-ngay-3182022-post1493034.html\\n',\n",
       " 'https://thanhnien.vn/tu-vi-hang-ngay---xem-tu-vi-vui-12-con-giap-ngay-3182022-post1493034.html\\n',\n",
       " 'https://thanhnien.vn/bien-y-tuong-nho-thanh-3000-cay-giong-tang-cho-vuon-quoc-gia-vu-quang-ha-tinh-post1493518.html\\n',\n",
       " 'https://thanhnien.vn/bien-y-tuong-nho-thanh-3000-cay-giong-tang-cho-vuon-quoc-gia-vu-quang-ha-tinh-post1493518.html\\n',\n",
       " 'https://thanhnien.vn/ket-qua-xo-so-hom-nay---kqxs---xo-so-truc-tiep-thu-ba-ngay-3082022-post1493458.html\\n',\n",
       " 'https://thanhnien.vn/ket-qua-xo-so-hom-nay---kqxs---xo-so-truc-tiep-thu-ba-ngay-3082022-post1493458.html\\n']"
      ]
     },
     "execution_count": 4,
     "metadata": {},
     "output_type": "execute_result"
    }
   ],
   "source": [
    "urls = open(URL_file, 'r')\n",
    "urls = list(urls)\n",
    "urls"
   ]
  },
  {
   "cell_type": "code",
   "execution_count": 5,
   "metadata": {},
   "outputs": [
    {
     "data": {
      "text/plain": [
       "'https://thanhnien.vn/hom-nay-dai-le-cau-sieu-dong-bao-tu-vong-vi-covid-19-dung-gio-dau-cua-me-em-chong-post1489309.html\\n'"
      ]
     },
     "execution_count": 5,
     "metadata": {},
     "output_type": "execute_result"
    }
   ],
   "source": [
    "url_demo = urls[0]\n",
    "url_demo"
   ]
  },
  {
   "cell_type": "markdown",
   "metadata": {},
   "source": [
    "### Import library"
   ]
  },
  {
   "cell_type": "code",
   "execution_count": 6,
   "metadata": {},
   "outputs": [],
   "source": [
    "from newspaper import Article"
   ]
  },
  {
   "cell_type": "markdown",
   "metadata": {},
   "source": [
    "### Read website "
   ]
  },
  {
   "cell_type": "code",
   "execution_count": 7,
   "metadata": {},
   "outputs": [],
   "source": [
    "article = Article(url_demo)\n",
    "article.download()"
   ]
  },
  {
   "cell_type": "markdown",
   "metadata": {},
   "source": [
    "### View HTML format"
   ]
  },
  {
   "cell_type": "code",
   "execution_count": null,
   "metadata": {},
   "outputs": [],
   "source": [
    "article.html"
   ]
  },
  {
   "cell_type": "markdown",
   "metadata": {},
   "source": [
    "### Read usefull information in website"
   ]
  },
  {
   "cell_type": "code",
   "execution_count": 9,
   "metadata": {},
   "outputs": [
    {
     "data": {
      "text/plain": [
       "['Vũ Phượng']"
      ]
     },
     "execution_count": 9,
     "metadata": {},
     "output_type": "execute_result"
    }
   ],
   "source": [
    "article.parse()\n",
    "article.authors"
   ]
  },
  {
   "cell_type": "code",
   "execution_count": 10,
   "metadata": {},
   "outputs": [
    {
     "data": {
      "text/plain": [
       "datetime.datetime(2022, 8, 18, 8, 5, 18, tzinfo=tzoffset(None, 25200))"
      ]
     },
     "execution_count": 10,
     "metadata": {},
     "output_type": "execute_result"
    }
   ],
   "source": [
    "article.publish_date"
   ]
  },
  {
   "cell_type": "code",
   "execution_count": 11,
   "metadata": {},
   "outputs": [
    {
     "data": {
      "text/plain": [
       "'Ngày 21.7 âm lịch năm 2021. Trong Bệnh viện Dã chiến số 1, bác sĩ chạy rầm rập liên tục kiểm tra chỉ số SpO 2 của ông Công Hoàng (59 tuổi, ngụ Q.7, TP.HCM) - chồng bà Ngô Thị Phương Mai (47 tuổi). Cả 4 người trong gia đình bà đều đang nằm chung một phòng, điện thoại bà Mai đổ chuông, đầu dây bên kia là giọng em chồng:\\n\\n12 giờ: Bệnh viện Đa khoa Vạn Hạnh báo chắc mẹ không qua khỏi.\\n\\n12 giờ 10 phút: Bệnh viện nói mẹ vừa ổn, chắc sẽ qua.\\n\\n12 giờ 30 phút: Mẹ mất rồi…\\n\\nBà Mai buông điện thoại, mắt ngấn lệ nhìn về phía chồng và các con.\\n\\n13 giờ, điện thoại bà tiếp tục đổ chuông: Chị là người nhà của Đ.V.H? Có ai báo tin cho chị về tình hình anh H. chưa? Anh H. mất lúc 6 giờ 55 phút sáng nay.\\n\\nHai tin dữ cách nhau chỉ 30 phút, bà Mai cố gắng giữ bình tĩnh báo tin cho chồng. Cả nhà nhìn nhau, mẹ chồng và em chồng đã cùng mất trong một ngày, không ai nói với ai được lời nào. Căn phòng trong bệnh viện lạnh như băng.\\n\\n“Kinh khủng lắm”\\n\\nNhà đông anh em, chồng bà Mai nhiều lần muốn đón mẹ về nhà phụng dưỡng, nhưng bà nhất quyết đòi ở với chú Út ở Q.8. Chú Út (43 tuổi) là võ sư, ly hôn vợ và nuôi 2 con trai. Căn nhà ở Q.8 còn có thêm một người chị bị tật câm điếc. Vợ chồng bà Mai ở Q.7 thường tới lui thăm nom.\\n\\nNhưng khi dịch Covid-19 bùng phát, ai ở đâu ở yên đó thì không còn được gặp nhau nữa. “Kinh khủng lắm” – bà Mai mở đầu câu chuyện về ký ức của ngày này đúng 1 năm trước.\\n\\nKhi ấy, bà nhận tin chú Út nhiễm Covid-19, là võ sư, sức khỏe tốt, đã tiêm 1 mũi vắc xin, ai cũng nghĩ chú Út sẽ không đến nỗi. Giãn cách anh chị em không tới được, chú Út cũng không muốn đi viện vì sợ không ai ở nhà lo cho mẹ và các cháu.\\n\\nMỗi ngày, bà Mai gọi video để cập nhật tình hình, dặn dò chú Út uống thuốc. Đến ngày thứ 3, thấy thần sắc chú Út không tốt, SpO2 bắt đầu dao động ở mức 70 – 80, cả nhà bà Mai cuống cuồng nhờ mua một máy thở nhỏ gửi đến, nhưng chú Út vẫn không thở được.\\n\\n\\n\\n\\n\\nGọi người thân làm nhiệm vụ ở tuyến đầu, bà Mai nhờ mua được một bình ô xy lớn giao đến nhà, nhưng chú Út đã bắt đầu mê sảng. 15 phút sau, y tế đến nhà, đưa chú Út đến BV dã chiến Q.8, sau đó chuyển sang BV Bình Chánh.\\n\\nNhững thành viên còn lại trong căn nhà ở Q.8 cũng có dấu hiệu nhiễm Covid-19, nhưng không thể nào mua được que test, cả nhà rối như tơ vò. Đến khi mẹ chồng trở nặng thì được y tế chuyển nhập viện. Ngày nhập viện, bác sĩ báo về gia đình, tình hình của bà không khả quan.\\n\\nCũng trong thời gian này, bà Mai lên sân thượng hái cây húng lủi, nhưng ăn chỉ thấy vị cay mà không ngửi thấy mùi thơm. Cả nhà sau đó có kết quả PCR dương tính, được đưa vào BV dã chiến số 1.\\n\\n4 người chung một phòng, bà Mai định giấu họ hàng, giấu cả người con đang du học ở Đan Mạch vì sợ mọi người lo lắng.\\n\\nNhưng ngày nhận 2 hung tin cùng lúc, ông Hoàng trở nặng, phải chuyển đến phòng ICU ở BV đa khoa Thủ Đức. Bà cũng trải qua trận thập tử nhất sinh. Bà nói: “Nhiều lần tôi nghĩ mình hết nợ với cuộc đời rồi nên chỉ cầu nguyện, ngồi thiền, tập thở. Chồng tôi cũng chấp nhận vô thường, nghĩ duyên số tới đó rồi. Nhưng qua đêm đầu, đêm thứ hai, đến đêm thứ ba thì tôi mới biết mình vẫn còn nợ với đời, phải về nhà để lo cho má. Má với chú Út khi đó đi thiêu vẫn chưa được nhận tro cốt về. Nhà đang một mớ bòng bong chuyện. Tôi phải trở về để lo”.\\n\\nBà gọi điện thoại đến Thượng tọa Thích Nhật Từ - trụ trì chùa Giác Ngộ, xin được gửi tro cốt của 2 người thân sau khi nhận được tro cốt từ quân đội. Thượng tọa đồng ý, bà mới cảm thấy nhẹ lòng được đôi chút.\\n\\nAn ủi khi được tìm về với Phật pháp\\n\\nGiữa tháng 9.2021, bà Mai được xuất viện, 10 ngày sau đó, chồng bà cũng trở về nhà. Nhưng chưa hoàn toàn hết giãn cách, bà gọi nhờ người quen chạy xe cấp cứu chuyển bệnh đưa tro cốt của mẹ chồng và em chồng vào chùa.\\n\\nGia đình thực hiện cúng 49 ngày, 100 ngày trong chùa, có các thầy đọc kinh. Nhắc đến đây, bà bùi ngùi: “Cuộc đời mẹ tôi mồ côi, chạy giặc lưu lạc gia đình, 63 năm mới gặp lại chị ruột, cha mẹ không còn, mẹ rất hiền. Vì vậy mà hôm qua tôi cúng giỗ đầu ở chùa trước, buổi cúng có rất đông họ hàng từ các tỉnh tập trung về, bạn bè chú Út cũng đến thắp nhang, đọc kinh”.\\n\\nNhiều lần tôi nghĩ mình hết nợ với cuộc đời rồi nên chỉ cầu nguyện, ngồi thiền, tập thở. Chồng tôi cũng chấp nhận vô thường, nghĩ duyên số tới đó rồi. Nhưng qua đêm đầu, đêm thứ hai, đến đêm thứ ba thì tôi mới biết mình vẫn còn nợ với đời, phải về nhà để lo cho má. Má với chú Út khi đó đi thiêu vẫn chưa được nhận tro cốt về. Nhà đang một mớ bòng bong chuyện. Tôi phải trở về để lo Bà Ngô Thị Phương Mai\\n\\nTheo bà Mai, gửi tro cốt 2 người thân ở trong chùa ngày nào cũng được nghe Phật pháp, cúng cơm. Con cháu có thể đến thăm thường xuyên, bất kể khi nào nên gia đình luôn thấy được an ủi, gần gũi.\\n\\n“Ba chồng tôi mất năm 2005, chôn ở nghĩa trang ngoại thành nên mỗi lần con cháu đi viếng phải đi xa. Còn mẹ chồng và em chồng giờ ở ngay trong nội thành, hai hũ cốt nằm gần nhau, cùng tầng với nhau, đúng như nguyện ước của mẹ được ở cùng chú Út”, bà Mai bộc bạch.\\n\\nSáng sớm nay, bà Mai cùng chồng đã dậy thật sớm, tự tay chuẩn bị mâm cúng chay cho giỗ đầu của mẹ và em chồng. 4 bàn đãi khách, gia đình cũng đặt tiệc chay. Buổi đại lễ cầu siêu đồng bào tử vong trong dịch Covid-19 cũng vừa được GHPGVN TP.HCM khai mạc Trai đàn tại Việt Nam Quốc Tự đúng ngày giỗ đầu hai người thân trong gia đình… Những ký ức lại ùa về, nhưng trong lòng những người ở lại đã được an ủi hơn rất nhiều…'"
      ]
     },
     "execution_count": 11,
     "metadata": {},
     "output_type": "execute_result"
    }
   ],
   "source": [
    "article.text"
   ]
  },
  {
   "cell_type": "code",
   "execution_count": 12,
   "metadata": {},
   "outputs": [
    {
     "data": {
      "text/plain": [
       "'Ngày 18.8 (tức 21.7 âm lịch) – đúng 1 năm trước chính là ngày bà Mai nhận tin mẹ chồng, em chồng mất vì covid-19/\" title=\"Covid-19\" target=\"_blank\" rel=\"noopener noreferrer\">Covid-19. Hai tin dữ cách nhau 30 phút, khi đó chồng bà chuyển nặng phải vào ICU, bà cũng rơi vào thập tử nhất sinh vì Covid-19.'"
      ]
     },
     "execution_count": 12,
     "metadata": {},
     "output_type": "execute_result"
    }
   ],
   "source": [
    "article.meta_description"
   ]
  },
  {
   "cell_type": "markdown",
   "metadata": {},
   "source": [
    "Nhận thấy thông tin cần thiết của bài toán tóm tắt văn bản là phần text tương ứng với bài báo và phần meta_description tương ứng với tóm tắt"
   ]
  },
  {
   "cell_type": "markdown",
   "metadata": {},
   "source": [
    "### Crawl all urls in file and save to excel file"
   ]
  },
  {
   "cell_type": "code",
   "execution_count": 14,
   "metadata": {},
   "outputs": [],
   "source": [
    "from time import sleep\n",
    "import pandas as pd"
   ]
  },
  {
   "cell_type": "code",
   "execution_count": 16,
   "metadata": {},
   "outputs": [
    {
     "data": {
      "text/html": [
       "<div>\n",
       "<style scoped>\n",
       "    .dataframe tbody tr th:only-of-type {\n",
       "        vertical-align: middle;\n",
       "    }\n",
       "\n",
       "    .dataframe tbody tr th {\n",
       "        vertical-align: top;\n",
       "    }\n",
       "\n",
       "    .dataframe thead th {\n",
       "        text-align: right;\n",
       "    }\n",
       "</style>\n",
       "<table border=\"1\" class=\"dataframe\">\n",
       "  <thead>\n",
       "    <tr style=\"text-align: right;\">\n",
       "      <th></th>\n",
       "      <th>Document</th>\n",
       "      <th>Summarize</th>\n",
       "      <th>URL</th>\n",
       "    </tr>\n",
       "    <tr>\n",
       "      <th>No</th>\n",
       "      <th></th>\n",
       "      <th></th>\n",
       "      <th></th>\n",
       "    </tr>\n",
       "  </thead>\n",
       "  <tbody>\n",
       "  </tbody>\n",
       "</table>\n",
       "</div>"
      ],
      "text/plain": [
       "Empty DataFrame\n",
       "Columns: [Document, Summarize, URL]\n",
       "Index: []"
      ]
     },
     "execution_count": 16,
     "metadata": {},
     "output_type": "execute_result"
    }
   ],
   "source": [
    "dataset = pd.DataFrame(columns=['No', 'Document', 'Summarize', 'URL'])\n",
    "dataset.set_index('No', inplace= True)\n",
    "dataset"
   ]
  },
  {
   "cell_type": "code",
   "execution_count": 17,
   "metadata": {},
   "outputs": [
    {
     "name": "stdout",
     "output_type": "stream",
     "text": [
      "https://thanhnien.vn/hom-nay-dai-le-cau-sieu-dong-bao-tu-vong-vi-covid-19-dung-gio-dau-cua-me-em-chong-post1489309.html\n",
      " -- Done\n",
      "https://thanhnien.vn/shark-binh-ban-trai-dien-vien-phuong-oanh-len-tieng-ve-thong-tin-chua-ly-hon-vo-post1492270.html\n",
      " -- Done\n",
      "https://thanhnien.vn/shark-binh-ban-trai-dien-vien-phuong-oanh-len-tieng-ve-thong-tin-chua-ly-hon-vo-post1492270.html\n",
      " -- Done\n",
      "https://thanhnien.vn/hoi-doanh-nhan-tre-da-nang-mua-gan-100-tan-vai-bac-giang-giup-nguoi-dan-post1074381.html\n",
      " -- Done\n",
      "https://thanhnien.vn/vu-khoi-to-chong-lay-tien-vo-tien-chung-vo-chong-lay-xai-co-phai-xin-phep-post1465717.html\n",
      " -- Done\n",
      "https://thanhnien.vn/vo-to-co-giao-chu-nhiem-quan-he-bat-chinh-sinh-con-voi-chong-minh-post1434941.html\n",
      " -- Done\n",
      "https://thanhnien.vn/cau-be-bong-dung-co-dien-thoai-dat-tien-roi-mat-tich-da-goi-dien-cho-me-post1492352.html\n",
      " -- Done\n",
      "https://thanhnien.vn/chang-trai-viet-cua-ban-gai-my-cung-bo-pho-ve-rung-nam-my-sinh-con-thuan-tu-nhien-post1480227.html\n",
      " -- Done\n",
      "https://thanhnien.vn/chang-trai-viet-moi-25-tuoi-cuoi-duoc-vo-tay-sieu-mau-chi-sau-5-thang-hen-ho-post1470391.html\n",
      " -- Done\n",
      "https://thanhnien.vn/khu-nam-tphcm-khuay-dong-thi-truong-bat-dong-san-voi-loat-du-an-ti-do-post1493690.html\n",
      " -- Done\n",
      "https://thanhnien.vn/can-ho-y-hoc-tai-tao-khai-pha-tiem-nang-du-lich-moi-tai-viet-nam-post1493439.html\n",
      " -- Done\n",
      "https://thanhnien.vn/lua-chon-thong-minh-giup-giai-quyet-bai-toan-hoc-phi-hieu-qua-post1493528.html\n",
      " -- Done\n",
      "https://thanhnien.vn/tuyet-chieu-don-gian-de-con-chiu-nap-rau-cu-moi-ngay-post1493512.html\n",
      " -- Done\n",
      "https://thanhnien.vn/isaac-va-hoang-ha-mach-ban-cach-chill-cuoi-tuan-o-ha-noi-post1493476.html\n",
      " -- Done\n",
      "https://thanhnien.vn/lien-ket-vung-doanh-nghiep-dong-hanh-phat-trien-kinh-te-post1493336.html\n",
      " -- Done\n",
      "https://thanhnien.vn/kcn-son-my-i---kcn-thong-minh-va-than-thien-voi-moi-truong-tai-binh-thuan-post1493571.html\n",
      " -- Done\n",
      "https://thanhnien.vn/tong-cho-chay-rong-xot-xa-nam-sinh-15-tuoi-tu-vong-tai-cho-post1493570.html\n",
      " -- Done\n",
      "https://thanhnien.vn/tong-cho-chay-rong-xot-xa-nam-sinh-15-tuoi-tu-vong-tai-cho-post1493570.html\n",
      " -- Done\n",
      "https://thanhnien.vn/nguoi-dan-ong-o-tphcm-hoang-mang-khi-con-do-bat-ngo-xong-vao-nha-cam-cay-phang-thang-post1493123.html\n",
      " -- Done\n",
      "https://thanhnien.vn/nguoi-dan-ong-o-tphcm-hoang-mang-khi-con-do-bat-ngo-xong-vao-nha-cam-cay-phang-thang-post1493123.html\n",
      " -- Done\n",
      "https://thanhnien.vn/vo-viet-chong-my-mo-quan-o-manila-quang-ba-am-thuc-viet-nguoi-philippines-khoai-canh-ga-chien-nuoc-mam-post1491210.html\n",
      " -- Done\n",
      "https://thanhnien.vn/dang-boc-dau-so-999xx-chu-xe-super-cup-trung-ngay-bien-so-ngu-quy-99999-post1493298.html\n",
      " -- Done\n",
      "https://thanhnien.vn/dang-boc-dau-so-999xx-chu-xe-super-cup-trung-ngay-bien-so-ngu-quy-99999-post1493298.html\n",
      " -- Done\n",
      "https://thanhnien.vn/yeu-cau-lanh-dao-chu-chot-xa-giai-trinh-vu-di-da-nang-tham-quan-hoc-tap-kinh-nghiem-post1493464.html\n",
      " -- Done\n",
      "https://thanhnien.vn/yeu-cau-lanh-dao-chu-chot-xa-giai-trinh-vu-di-da-nang-tham-quan-hoc-tap-kinh-nghiem-post1493464.html\n",
      " -- Done\n",
      "https://thanhnien.vn/hai-phong-pho-giam-doc-trung-tam-phat-trien-quy-dat-h-kien-thuy-tu-vong-trong-tu-the-treo-co-post1481910.html\n",
      " -- Done\n",
      "https://thanhnien.vn/di-lai-dip-le-29-nguoi-tu-tphcm-di-vung-tau-da-lat-nha-trang-du-bao-dong-post1493353.html\n",
      " -- Done\n",
      "https://thanhnien.vn/di-lai-dip-le-29-nguoi-tu-tphcm-di-vung-tau-da-lat-nha-trang-du-bao-dong-post1493353.html\n",
      " -- Done\n",
      "https://thanhnien.vn/dai-uy-csgt-tu-tay-mo-quan-com-0-dong-giup-nguoi-ngheo-post1493588.html\n",
      " -- Done\n",
      "https://thanhnien.vn/dai-uy-csgt-tu-tay-mo-quan-com-0-dong-giup-nguoi-ngheo-post1493588.html\n",
      " -- Done\n",
      "https://thanhnien.vn/tin-tuc-dac-biet-tren-bao-in-ngay-3182022-post1493587.html\n",
      " -- Done\n",
      "https://thanhnien.vn/tin-tuc-dac-biet-tren-bao-in-ngay-3182022-post1493587.html\n",
      " -- Done\n",
      "https://thanhnien.vn/ha-tinh-to-chuc-thi-diem-cho-dem-gan-voi-pho-di-bo-tu-ngay-29-post1493460.html\n",
      " -- Done\n",
      "https://thanhnien.vn/ha-tinh-to-chuc-thi-diem-cho-dem-gan-voi-pho-di-bo-tu-ngay-29-post1493460.html\n",
      " -- Done\n",
      "https://thanhnien.vn/hang-tram-nghe-si-bieu-dien-phuc-vu-tet-doc-lap-tai-pho-di-bo-nguyen-hue-post1492965.html\n",
      " -- Done\n",
      "https://thanhnien.vn/2-be-ru-nhau-ra-bo-song-choi-mot-be-9-tuoi-bi-duoi-nuoc-tu-vong-post1493568.html\n",
      " -- Done\n",
      "https://thanhnien.vn/2-be-ru-nhau-ra-bo-song-choi-mot-be-9-tuoi-bi-duoi-nuoc-tu-vong-post1493568.html\n",
      " -- Done\n",
      "https://thanhnien.vn/thai-binh-chau-be-3-tuoi-duoi-nuoc-tu-vong-duoi-ao-nha-ong-ngoai-post1493035.html\n",
      " -- Done\n",
      "https://thanhnien.vn/tu-vi-hang-ngay---xem-tu-vi-vui-12-con-giap-ngay-3182022-post1493034.html\n",
      " -- Done\n",
      "https://thanhnien.vn/tu-vi-hang-ngay---xem-tu-vi-vui-12-con-giap-ngay-3182022-post1493034.html\n",
      " -- Done\n",
      "https://thanhnien.vn/bien-y-tuong-nho-thanh-3000-cay-giong-tang-cho-vuon-quoc-gia-vu-quang-ha-tinh-post1493518.html\n",
      " -- Done\n",
      "https://thanhnien.vn/bien-y-tuong-nho-thanh-3000-cay-giong-tang-cho-vuon-quoc-gia-vu-quang-ha-tinh-post1493518.html\n",
      " -- Done\n",
      "https://thanhnien.vn/ket-qua-xo-so-hom-nay---kqxs---xo-so-truc-tiep-thu-ba-ngay-3082022-post1493458.html\n",
      " -- Done\n",
      "https://thanhnien.vn/ket-qua-xo-so-hom-nay---kqxs---xo-so-truc-tiep-thu-ba-ngay-3082022-post1493458.html\n",
      " -- Done\n"
     ]
    }
   ],
   "source": [
    "for url in urls:\n",
    "    if url not in dataset.URL:\n",
    "        article = Article(url)\n",
    "        article.download()\n",
    "        article.parse()\n",
    "        AddData = pd.DataFrame([[article.text.strip(), article.meta_description.strip(), url]], columns=dataset.columns)\n",
    "        dataset = pd.concat([dataset, AddData], ignore_index=True)\n",
    "        print('{} -- Done'.format(url))\n",
    "        sleep(2)"
   ]
  },
  {
   "cell_type": "markdown",
   "metadata": {},
   "source": [
    "### Save to file"
   ]
  },
  {
   "cell_type": "code",
   "execution_count": 18,
   "metadata": {},
   "outputs": [],
   "source": [
    "dataset.to_excel('''Website Data\\WebSite.xlsx''', encoding='utf-8')"
   ]
  }
 ],
 "metadata": {
  "kernelspec": {
   "display_name": "Python 3.9.5 ('virtual_env': venv)",
   "language": "python",
   "name": "python3"
  },
  "language_info": {
   "codemirror_mode": {
    "name": "ipython",
    "version": 3
   },
   "file_extension": ".py",
   "mimetype": "text/x-python",
   "name": "python",
   "nbconvert_exporter": "python",
   "pygments_lexer": "ipython3",
   "version": "3.9.5"
  },
  "orig_nbformat": 4,
  "vscode": {
   "interpreter": {
    "hash": "04caf013a3e25b926b0b08cb360b8576e21ad65c29a1ee44fa250695cf7eba11"
   }
  }
 },
 "nbformat": 4,
 "nbformat_minor": 2
}
